{
 "cells": [
  {
   "cell_type": "markdown",
   "id": "053850e8",
   "metadata": {},
   "source": [
    "## Strings\n",
    "- Strings in python are surrounded by either single quotation marks, or double quotation marks.\n",
    "\n",
    "'hello' is the same as \"hello\".\n",
    "- You can display a string literal with the print() function:"
   ]
  },
  {
   "cell_type": "code",
   "execution_count": 1,
   "id": "037ac915",
   "metadata": {},
   "outputs": [
    {
     "name": "stdout",
     "output_type": "stream",
     "text": [
      "Hello\n",
      "Hello\n"
     ]
    }
   ],
   "source": [
    "print(\"Hello\")\n",
    "print('Hello')"
   ]
  },
  {
   "cell_type": "code",
   "execution_count": 2,
   "id": "7685e86d",
   "metadata": {},
   "outputs": [
    {
     "name": "stdout",
     "output_type": "stream",
     "text": [
      "Hello\n"
     ]
    }
   ],
   "source": [
    "# Assign String to a Variable\n",
    "#Assigning a string to a variable is done with the variable name followed by an equal\n",
    "# sign and the string:\n",
    "a = \"Hello\"\n",
    "print(a)"
   ]
  },
  {
   "cell_type": "markdown",
   "id": "500354f9",
   "metadata": {},
   "source": [
    "## Multiline Strings\n",
    "- You can assign a multiline string to a variable by using three quotes:"
   ]
  },
  {
   "cell_type": "code",
   "execution_count": 3,
   "id": "87669be2",
   "metadata": {},
   "outputs": [
    {
     "name": "stdout",
     "output_type": "stream",
     "text": [
      "Lorem ipsum dolor sit amet,\n",
      "consectetur adipiscing elit,\n",
      "sed do eiusmod tempor incididunt\n",
      "ut labore et dolore magna aliqua.\n"
     ]
    }
   ],
   "source": [
    "# You can use three double quotes:\n",
    "\n",
    "a = \"\"\"Lorem ipsum dolor sit amet,\n",
    "consectetur adipiscing elit,\n",
    "sed do eiusmod tempor incididunt\n",
    "ut labore et dolore magna aliqua.\"\"\"\n",
    "print(a)\n",
    "# Or three single quotes:(''' ''')"
   ]
  },
  {
   "cell_type": "markdown",
   "id": "116de328",
   "metadata": {},
   "source": [
    "## Strings are Arrays\n",
    "- Like many other popular programming languages, strings in Python are arrays of bytes representing unicode characters.\n",
    "\n",
    "- However, Python does not have a character data type, a single character is simply a string with a length of 1.\n",
    "\n",
    "- Square brackets can be used to access elements of the string. "
   ]
  },
  {
   "cell_type": "code",
   "execution_count": 4,
   "id": "b2940bb7",
   "metadata": {},
   "outputs": [
    {
     "name": "stdout",
     "output_type": "stream",
     "text": [
      "e\n"
     ]
    }
   ],
   "source": [
    "# Get the character at position 1 (remember that the first character has the position 0):\n",
    "\n",
    "a = \"Hello, World!\"\n",
    "print(a[1])"
   ]
  },
  {
   "cell_type": "markdown",
   "id": "e6461c96",
   "metadata": {},
   "source": [
    "## Looping Through a String\n",
    "- Since strings are arrays, we can loop through the characters in a string, with a for loop."
   ]
  },
  {
   "cell_type": "code",
   "execution_count": 5,
   "id": "db253201",
   "metadata": {},
   "outputs": [
    {
     "name": "stdout",
     "output_type": "stream",
     "text": [
      "b\n",
      "a\n",
      "n\n",
      "a\n",
      "n\n",
      "a\n"
     ]
    }
   ],
   "source": [
    "# Loop through the letters in the word \"banana\":\n",
    "\n",
    "for x in \"banana\":\n",
    "  print(x)"
   ]
  },
  {
   "cell_type": "markdown",
   "id": "cc1d50de",
   "metadata": {},
   "source": [
    "# String Length\n",
    "- To get the length of a string, use the len() function."
   ]
  },
  {
   "cell_type": "code",
   "execution_count": 6,
   "id": "12c2994a",
   "metadata": {},
   "outputs": [
    {
     "name": "stdout",
     "output_type": "stream",
     "text": [
      "13\n"
     ]
    }
   ],
   "source": [
    "# The len() function returns the length of a string:\n",
    "\n",
    "a = \"Hello, World!\"\n",
    "print(len(a))"
   ]
  },
  {
   "cell_type": "code",
   "execution_count": 7,
   "id": "d699a2ed",
   "metadata": {},
   "outputs": [
    {
     "name": "stdout",
     "output_type": "stream",
     "text": [
      "True\n"
     ]
    }
   ],
   "source": [
    "#Check String\n",
    "# To check if a certain phrase or character is present in a string, we can use the keyword in.\n",
    "\n",
    "#Check if \"free\" is present in the following text:\n",
    "\n",
    "txt = \"The best things in life are free!\"\n",
    "print(\"free\" in txt)"
   ]
  },
  {
   "cell_type": "code",
   "execution_count": 8,
   "id": "cc6f8006",
   "metadata": {},
   "outputs": [
    {
     "name": "stdout",
     "output_type": "stream",
     "text": [
      "Yes, 'free' is present.\n"
     ]
    }
   ],
   "source": [
    "#Use it in an if statement:\n",
    "\n",
    "# Print only if \"free\" is present:\n",
    "\n",
    "txt = \"The best things in life are free!\"\n",
    "if \"free\" in txt:\n",
    "  print(\"Yes, 'free' is present.\")"
   ]
  },
  {
   "cell_type": "code",
   "execution_count": 9,
   "id": "5cae306a",
   "metadata": {},
   "outputs": [
    {
     "name": "stdout",
     "output_type": "stream",
     "text": [
      "True\n"
     ]
    }
   ],
   "source": [
    "# Check if NOT\n",
    "# To check if a certain phrase or character is NOT present in a string, we can use the keyword not in.\n",
    "\n",
    "#Check if \"expensive\" is NOT present in the following text:\n",
    "\n",
    "txt = \"The best things in life are free!\"\n",
    "print(\"expensive\" not in txt)"
   ]
  },
  {
   "cell_type": "code",
   "execution_count": 10,
   "id": "862c0ddd",
   "metadata": {},
   "outputs": [
    {
     "name": "stdout",
     "output_type": "stream",
     "text": [
      "No, 'expensive' is NOT present.\n"
     ]
    }
   ],
   "source": [
    "# Use it in an if statement:\n",
    "\n",
    "# print only if \"expensive\" is NOT present:\n",
    "\n",
    "txt = \"The best things in life are free!\"\n",
    "if \"expensive\" not in txt:\n",
    "  print(\"No, 'expensive' is NOT present.\")"
   ]
  },
  {
   "cell_type": "markdown",
   "id": "18051265",
   "metadata": {},
   "source": [
    "## Slicing\n",
    "- You can return a range of characters by using the slice syntax.\n",
    "\n",
    "- Specify the start index and the end index, separated by a colon, to return a part of the string."
   ]
  },
  {
   "cell_type": "code",
   "execution_count": 11,
   "id": "3d406708",
   "metadata": {},
   "outputs": [
    {
     "name": "stdout",
     "output_type": "stream",
     "text": [
      "llo\n"
     ]
    }
   ],
   "source": [
    "#Get the characters from position 2 to position 5 (not included):\n",
    "\n",
    "b = \"Hello, World!\"\n",
    "print(b[2:5])"
   ]
  },
  {
   "cell_type": "code",
   "execution_count": 12,
   "id": "045c95ab",
   "metadata": {},
   "outputs": [
    {
     "name": "stdout",
     "output_type": "stream",
     "text": [
      "Hello\n"
     ]
    }
   ],
   "source": [
    "# Get the characters from the start to position 5 (not included):\n",
    "\n",
    "b = \"Hello, World!\"\n",
    "print(b[:5])\n"
   ]
  },
  {
   "cell_type": "code",
   "execution_count": 13,
   "id": "febd0ceb",
   "metadata": {},
   "outputs": [
    {
     "name": "stdout",
     "output_type": "stream",
     "text": [
      "llo, World!\n"
     ]
    }
   ],
   "source": [
    "# Get the characters from position 2, and all the way to the end:\n",
    "\n",
    "b = \"Hello, World!\"\n",
    "print(b[2:])"
   ]
  },
  {
   "cell_type": "markdown",
   "id": "3f0d14b4",
   "metadata": {},
   "source": [
    "## Negative Indexing\n",
    "- Use negative indexes to start the slice from the end of the string:\n",
    "Get the characters:\n",
    "\n",
    "- From: \"o\" in \"World!\" (position -5)\n",
    "\n",
    "- To, but not included: \"d\" in \"World!\" (position -2):"
   ]
  },
  {
   "cell_type": "code",
   "execution_count": 14,
   "id": "5fc854de",
   "metadata": {},
   "outputs": [
    {
     "name": "stdout",
     "output_type": "stream",
     "text": [
      "orl\n"
     ]
    }
   ],
   "source": [
    "b = \"Hello, World!\"\n",
    "print(b[-5:-2])"
   ]
  },
  {
   "cell_type": "markdown",
   "id": "031801c4",
   "metadata": {},
   "source": [
    "## String Methods\n",
    "- Python has a set of built-in methods that you can use on strings.\n",
    "\n",
    "Note: All string methods return new values. They do not change the original string."
   ]
  },
  {
   "cell_type": "markdown",
   "id": "55867d37",
   "metadata": {},
   "source": [
    "<tbody><tr>\n",
    "<th>Method</th>\n",
    "<th>Description</th>\n",
    "</tr>\n",
    "  <tr>\n",
    "    <td><a href=\"ref_string_capitalize.asp\">capitalize()</a></td><td>Converts the first \n",
    "    character to upper case</td>\n",
    "  </tr>\n",
    "  <tr>\n",
    "    <td><a href=\"ref_string_casefold.asp\">casefold()</a></td><td>Converts string into \n",
    "    lower case</td>\n",
    "  </tr>\n",
    "  <tr>\n",
    "    <td><a href=\"ref_string_center.asp\">center()</a></td><td>Returns a centered \n",
    "    string</td>\n",
    "  </tr>\n",
    "  <tr>\n",
    "    <td><a href=\"ref_string_count.asp\">count()</a></td><td>Returns the number of \n",
    "    times a specified value occurs in a string</td>\n",
    "  </tr>\n",
    "  <tr>\n",
    "    <td><a href=\"ref_string_encode.asp\">encode()</a></td><td>Returns an encoded \n",
    "    version of the string</td>\n",
    "  </tr>\n",
    "  <tr>\n",
    "    <td><a href=\"ref_string_endswith.asp\">endswith()</a></td><td>Returns true if the \n",
    "    string ends with the specified value</td>\n",
    "  </tr>\n",
    "  <tr>\n",
    "    <td><a href=\"ref_string_expandtabs.asp\">expandtabs()</a></td><td>Sets the \n",
    "    tab size of the string</td>\n",
    "  </tr>\n",
    "  <tr>\n",
    "    <td><a href=\"ref_string_find.asp\">find()</a></td><td>Searches the string for a \n",
    "    specified value and returns the position of where it was found</td>\n",
    "  </tr>\n",
    "  <tr>\n",
    "    <td><a href=\"ref_string_format.asp\">format()</a></td><td>Formats specified \n",
    "    values in a string</td>\n",
    "  </tr>\n",
    "  <tr>\n",
    "    <td>format_map()</td><td>Formats specified \n",
    "    values in a string</td>\n",
    "  </tr>\n",
    "  <tr>\n",
    "    <td><a href=\"ref_string_index.asp\">index()</a></td><td>Searches the string \n",
    "    for a specified value and returns the position of where it was found</td>\n",
    "  </tr>\n",
    "  <tr>\n",
    "    <td><a href=\"ref_string_isalnum.asp\">isalnum()</a></td><td>Returns True if all \n",
    "    characters in the string are alphanumeric</td>\n",
    "  </tr>\n",
    "  <tr>\n",
    "    <td><a href=\"ref_string_isalpha.asp\">isalpha()</a></td><td>Returns True if all \n",
    "    characters in the string are in the alphabet</td>\n",
    "  </tr>\n",
    "  <tr>\n",
    "    <td><a href=\"ref_string_isdecimal.asp\">isdecimal()</a></td><td>Returns True if all \n",
    "    characters in the string are decimals</td>\n",
    "  </tr>\n",
    "  <tr>\n",
    "    <td><a href=\"ref_string_isdigit.asp\">isdigit()</a></td><td>Returns True if all \n",
    "    characters in the string are digits</td>\n",
    "  </tr>\n",
    "  <tr>\n",
    "    <td><a href=\"ref_string_isidentifier.asp\">isidentifier()</a></td><td>Returns True if \n",
    "    the string is an identifier</td>\n",
    "  </tr>\n",
    "  <tr>\n",
    "    <td><a href=\"ref_string_islower.asp\">islower()</a></td><td>Returns True if all \n",
    "    characters in the string are lower case</td>\n",
    "  </tr>\n",
    "  <tr>\n",
    "    <td><a href=\"ref_string_isnumeric.asp\">isnumeric()</a></td><td>Returns True if \n",
    "    all characters in the string are numeric</td>\n",
    "  </tr>\n",
    "  <tr>\n",
    "    <td><a href=\"ref_string_isprintable.asp\">isprintable()</a></td><td>Returns True if \n",
    "    all characters in the string are printable</td>\n",
    "  </tr>\n",
    "  <tr>\n",
    "    <td><a href=\"ref_string_isspace.asp\">isspace()</a></td><td>Returns True if all \n",
    "    characters in the string are whitespaces</td>\n",
    "  </tr>\n",
    "  <tr>\n",
    "    <td><a href=\"ref_string_istitle.asp\">istitle()</a></td>\n",
    "    <td>Returns True if the string follows the rules of a \n",
    "    title</td>\n",
    "  </tr>\n",
    "  <tr>\n",
    "    <td><a href=\"ref_string_isupper.asp\">isupper()</a></td><td>Returns True if all \n",
    "    characters in the string are upper case</td>\n",
    "  </tr>\n",
    "  <tr>\n",
    "    <td><a href=\"ref_string_join.asp\">join()</a></td><td>Joins the elements of \n",
    "    an iterable to the end of the string</td>\n",
    "  </tr>\n",
    "  <tr>\n",
    "    <td><a href=\"ref_string_ljust.asp\">ljust()</a></td><td>Returns a left justified \n",
    "    version of the string</td>\n",
    "  </tr>\n",
    "  <tr>\n",
    "    <td><a href=\"ref_string_lower.asp\">lower()</a></td><td>Converts a string into \n",
    "    lower case</td>\n",
    "  </tr>\n",
    "  <tr>\n",
    "    <td><a href=\"ref_string_lstrip.asp\">lstrip()</a></td><td>Returns a left trim \n",
    "    version of the string</td>\n",
    "  </tr>\n",
    "  <tr>\n",
    "    <td><a href=\"ref_string_maketrans.asp\">maketrans()</a></td><td>Returns a \n",
    "    translation table to be used in translations</td>\n",
    "  </tr>\n",
    "  <tr>\n",
    "    <td><a href=\"ref_string_partition.asp\">partition()</a></td><td>Returns a tuple \n",
    "    where the string is parted into three parts</td>\n",
    "  </tr>\n",
    "  <tr>\n",
    "    <td><a href=\"ref_string_replace.asp\">replace()</a></td><td>Returns a string \n",
    "    where a specified value is replaced with a specified value</td>\n",
    "  </tr>\n",
    "  <tr>\n",
    "    <td><a href=\"ref_string_rfind.asp\">rfind()</a></td><td>Searches the string for \n",
    "    a specified value and returns the last position of where it was found</td>\n",
    "  </tr>\n",
    "  <tr>\n",
    "    <td><a href=\"ref_string_rindex.asp\">rindex()</a></td><td>Searches the string for \n",
    "    a specified value and returns the last position of where it was found</td>\n",
    "  </tr>\n",
    "  <tr>\n",
    "    <td><a href=\"ref_string_rjust.asp\">rjust()</a></td><td>Returns a right justified \n",
    "    version of the string</td>\n",
    "  </tr>\n",
    "  <tr>\n",
    "    <td><a href=\"ref_string_rpartition.asp\">rpartition()</a></td><td>Returns a tuple \n",
    "    where the string is parted into three parts</td>\n",
    "  </tr>\n",
    "  <tr>\n",
    "    <td><a href=\"ref_string_rsplit.asp\">rsplit()</a></td><td>Splits the string at \n",
    "    the specified separator, and returns a list</td>\n",
    "  </tr>\n",
    "  <tr>\n",
    "    <td><a href=\"ref_string_rstrip.asp\">rstrip()</a></td><td>Returns a right trim \n",
    "    version of the string</td>\n",
    "  </tr>\n",
    "  <tr>\n",
    "    <td><a href=\"ref_string_split.asp\">split()</a></td><td>Splits the string at \n",
    "    the specified separator, and returns a list</td>\n",
    "  </tr>\n",
    "  <tr>\n",
    "    <td><a href=\"ref_string_splitlines.asp\">splitlines()</a></td><td>Splits the string \n",
    "    at line breaks and returns a list</td>\n",
    "  </tr>\n",
    "  <tr>\n",
    "    <td><a href=\"ref_string_startswith.asp\">startswith()</a></td><td>Returns true if \n",
    "    the string starts with the specified value</td>\n",
    "  </tr>\n",
    "  <tr>\n",
    "    <td><a href=\"ref_string_strip.asp\">strip()</a></td><td>Returns a trimmed version of the string</td>\n",
    "  </tr>\n",
    "  <tr>\n",
    "    <td><a href=\"ref_string_swapcase.asp\">swapcase()</a></td><td>Swaps cases, lower \n",
    "    case becomes upper case and vice versa</td>\n",
    "  </tr>\n",
    "  <tr>\n",
    "    <td><a href=\"ref_string_title.asp\">title()</a></td><td>Converts the first \n",
    "    character of each word to upper case</td>\n",
    "  </tr>\n",
    "  <tr>\n",
    "    <td><a href=\"ref_string_translate.asp\">translate()</a></td><td>Returns a \n",
    "    translated string</td>\n",
    "  </tr>\n",
    "  <tr>\n",
    "    <td><a href=\"ref_string_upper.asp\">upper()</a></td><td>Converts a string \n",
    "    into upper case</td>\n",
    "  </tr>\n",
    "<tr><td><a href=\"ref_string_zfill.asp\">zfill()</a></td><td>Fills the string with \n",
    "  a specified number of 0 values at the beginning</td></tr>\n",
    "</tbody>"
   ]
  },
  {
   "cell_type": "markdown",
   "id": "b8a81b3a",
   "metadata": {},
   "source": [
    "## Python - Modify Strings\n",
    "- Python has a set of built-in methods that you can use on strings.\n",
    "### Upper Case"
   ]
  },
  {
   "cell_type": "code",
   "execution_count": 15,
   "id": "45d8188f",
   "metadata": {},
   "outputs": [
    {
     "name": "stdout",
     "output_type": "stream",
     "text": [
      "HELLO, WORLD!\n"
     ]
    }
   ],
   "source": [
    "# The upper() method returns the string in upper case:\n",
    "\n",
    "a = \"Hello, World!\"\n",
    "print(a.upper())\n"
   ]
  },
  {
   "cell_type": "code",
   "execution_count": 16,
   "id": "bda229be",
   "metadata": {},
   "outputs": [
    {
     "name": "stdout",
     "output_type": "stream",
     "text": [
      "hello, world!\n"
     ]
    }
   ],
   "source": [
    "# Lower Case\n",
    "# The lower() method returns the string in lower case:\n",
    "\n",
    "a = \"Hello, World!\"\n",
    "print(a.lower())"
   ]
  },
  {
   "cell_type": "code",
   "execution_count": 17,
   "id": "4f5bab46",
   "metadata": {},
   "outputs": [
    {
     "name": "stdout",
     "output_type": "stream",
     "text": [
      "Hello, World!\n"
     ]
    }
   ],
   "source": [
    "# Remove Whitespace\n",
    "# Whitespace is the space before and/or after the actual text, and very often you want to\n",
    "#remove this space.\n",
    "\n",
    "# The strip() method removes any whitespace from the beginning or the end:\n",
    "\n",
    "a = \" Hello, World! \"\n",
    "print(a.strip()) # returns \"Hello, World!\""
   ]
  },
  {
   "cell_type": "code",
   "execution_count": 18,
   "id": "adda12eb",
   "metadata": {},
   "outputs": [
    {
     "name": "stdout",
     "output_type": "stream",
     "text": [
      "Jello, World!\n"
     ]
    }
   ],
   "source": [
    "# Replace String\n",
    "# The replace() method replaces a string with another string:\n",
    "\n",
    "a = \"Hello, World!\"\n",
    "print(a.replace(\"H\", \"J\"))"
   ]
  },
  {
   "cell_type": "code",
   "execution_count": 19,
   "id": "593d0c52",
   "metadata": {},
   "outputs": [
    {
     "name": "stdout",
     "output_type": "stream",
     "text": [
      "['Hello', ' World!']\n"
     ]
    }
   ],
   "source": [
    "# Split String\n",
    "# The split() method returns a list where the text between the specified separator becomes the list items.\n",
    "\n",
    "# The split() method splits the string into substrings if it finds instances of the separator:\n",
    "\n",
    "a = \"Hello, World!\"\n",
    "print(a.split(\",\")) # returns ['Hello', ' World!']"
   ]
  },
  {
   "cell_type": "markdown",
   "id": "78044849",
   "metadata": {},
   "source": [
    "## String Concatenation\n",
    "- To concatenate, or combine, two strings you can use the + operator."
   ]
  },
  {
   "cell_type": "code",
   "execution_count": 20,
   "id": "09179578",
   "metadata": {},
   "outputs": [
    {
     "name": "stdout",
     "output_type": "stream",
     "text": [
      "HelloWorld\n"
     ]
    }
   ],
   "source": [
    "# Merge variable a with variable b into variable c:\n",
    "\n",
    "a = \"Hello\"\n",
    "b = \"World\"\n",
    "c = a + b\n",
    "print(c)"
   ]
  },
  {
   "cell_type": "code",
   "execution_count": 22,
   "id": "6ef40220",
   "metadata": {},
   "outputs": [
    {
     "name": "stdout",
     "output_type": "stream",
     "text": [
      "Hello World\n"
     ]
    }
   ],
   "source": [
    "# To add a space between them, add a \" \":\n",
    "\n",
    "a = \"Hello\"\n",
    "b = \"World\"\n",
    "c = a + \" \" + b\n",
    "print(c)"
   ]
  },
  {
   "cell_type": "markdown",
   "id": "dc7cc98f",
   "metadata": {},
   "source": [
    "## String Format\n",
    "- As we learned in the Python Variables chapter, we cannot combine strings and numbers like this:"
   ]
  },
  {
   "cell_type": "code",
   "execution_count": null,
   "id": "c0e6dc1d",
   "metadata": {},
   "outputs": [],
   "source": [
    "age = 36\n",
    "txt = \"My name is John, I am \" + age\n",
    "print(txt)\n",
    "# it is error"
   ]
  },
  {
   "cell_type": "markdown",
   "id": "7ddca757",
   "metadata": {},
   "source": [
    "But we can combine strings and numbers by using the format() method!\n",
    "\n",
    "The format() method takes the passed arguments, formats them, and places them in the string where the placeholders {} are:"
   ]
  },
  {
   "cell_type": "code",
   "execution_count": 25,
   "id": "cf602858",
   "metadata": {},
   "outputs": [
    {
     "name": "stdout",
     "output_type": "stream",
     "text": [
      "My name is Sony, and I am 21\n"
     ]
    }
   ],
   "source": [
    "# Use the format() method to insert numbers into strings:\n",
    "\n",
    "age = 21\n",
    "txt = \"My name is Sony, and I am {}\"\n",
    "print(txt.format(age))"
   ]
  },
  {
   "cell_type": "code",
   "execution_count": 26,
   "id": "54f82329",
   "metadata": {},
   "outputs": [
    {
     "name": "stdout",
     "output_type": "stream",
     "text": [
      "I want 3 pieces of item 567 for 49.95 dollars.\n"
     ]
    }
   ],
   "source": [
    "# The format() method takes unlimited number of arguments, and are placed into the\n",
    "#respective placeholders:\n",
    "\n",
    "quantity = 3\n",
    "itemno = 567\n",
    "price = 49.95\n",
    "myorder = \"I want {} pieces of item {} for {} dollars.\"\n",
    "print(myorder.format(quantity, itemno, price))"
   ]
  },
  {
   "cell_type": "code",
   "execution_count": 27,
   "id": "372595ce",
   "metadata": {},
   "outputs": [
    {
     "name": "stdout",
     "output_type": "stream",
     "text": [
      "I want to pay 49.95 dollars for 3 pieces of item 567.\n"
     ]
    }
   ],
   "source": [
    "#You can use index numbers {0} to be sure the arguments are placed in the correct placeholders:\n",
    "quantity = 3\n",
    "itemno = 567\n",
    "price = 49.95\n",
    "myorder = \"I want to pay {2} dollars for {0} pieces of item {1}.\"\n",
    "print(myorder.format(quantity, itemno, price))"
   ]
  },
  {
   "cell_type": "markdown",
   "id": "afc81444",
   "metadata": {},
   "source": [
    "## Escape Character\n",
    "- To insert characters that are illegal in a string, use an escape character.\n",
    "\n",
    "- An escape character is a backslash \\ followed by the character you want to insert.\n",
    "\n",
    "- An example of an illegal character is a double quote inside a string that is surrounded by double quotes:"
   ]
  },
  {
   "cell_type": "code",
   "execution_count": null,
   "id": "56220068",
   "metadata": {},
   "outputs": [],
   "source": [
    "# You will get an error if you use double quotes inside a string that is surrounded by double quotes:\n",
    "\n",
    "txt = \"We are the so-called \"Vikings\" from the north.\""
   ]
  },
  {
   "cell_type": "code",
   "execution_count": 31,
   "id": "ca0a0b65",
   "metadata": {},
   "outputs": [
    {
     "name": "stdout",
     "output_type": "stream",
     "text": [
      "We are the so-called \"Vikings\" from the north.\n"
     ]
    }
   ],
   "source": [
    "# To fix this problem, use the escape character \\\":\n",
    "# The escape character allows you to use double quotes when you normally would not be allowed:\n",
    "\n",
    "txt = \"We are the so-called \\\"Vikings\\\" from the north.\"\n",
    "print(txt)"
   ]
  },
  {
   "cell_type": "markdown",
   "id": "b0512306",
   "metadata": {},
   "source": [
    "## Escape Characters\n",
    "- Other escape characters used in Python:\n",
    "\n"
   ]
  },
  {
   "cell_type": "markdown",
   "id": "27d9226c",
   "metadata": {},
   "source": [
    "<tbody><tr>\n",
    "  <th width=\"25%\">Code</th>\n",
    "  <th>Result</th>\n",
    "  <th style=\"width:10%\"></th>\n",
    "</tr>\n",
    "<tr>\n",
    "  <td>\\'</td>\n",
    "  <td>Single Quote</td>\n",
    "<td><a target=\"_blank\" class=\"w3-btn btnsmall btnsmall\" href=\"trypython.asp?filename=demo_string_escape2\"></a></td>\n",
    "</tr>\n",
    "<tr>\n",
    "  <td>\\\\</td>\n",
    "  <td>Backslash</td>\n",
    "<td><a target=\"_blank\" class=\"w3-btn btnsmall btnsmall\" href=\"trypython.asp?filename=demo_string_backslash\"></a></td>\n",
    "</tr>\n",
    "<tr>\n",
    "  <td>\\n</td>\n",
    "  <td>New Line</td>\n",
    "<td><a target=\"_blank\" class=\"w3-btn btnsmall btnsmall\" href=\"trypython.asp?filename=demo_string_newline\"></a></td>\n",
    "</tr>\n",
    "<tr>\n",
    "  <td>\\r</td>\n",
    "  <td>Carriage Return</td>\n",
    "<td><a target=\"_blank\" class=\"w3-btn btnsmall btnsmall\" href=\"trypython.asp?filename=demo_string_r\"></a></td>\n",
    "</tr>\n",
    "<tr>\n",
    "  <td>\\t</td>\n",
    "  <td>Tab</td>\n",
    "<td><a target=\"_blank\" class=\"w3-btn btnsmall btnsmall\" href=\"trypython.asp?filename=demo_string_t\"></a></td>\n",
    "</tr>\n",
    "<tr>\n",
    "  <td>\\b</td>\n",
    "  <td>Backspace</td>\n",
    "<td><a target=\"_blank\" class=\"w3-btn btnsmall btnsmall\" href=\"showpython.asp?filename=demo_string_b\"></a></td>\n",
    "</tr>\n",
    "<tr>\n",
    "  <td>\\f</td>\n",
    "  <td>Form Feed</td>\n",
    "<td></td>\n",
    "</tr>\n",
    "<tr>\n",
    "  <td>\\ooo</td>\n",
    "  <td>Octal value</td>\n",
    "<td><a target=\"_blank\" class=\"w3-btn btnsmall btnsmall\" href=\"trypython.asp?filename=demo_string_octal\"></a></td>\n",
    "</tr>\n",
    "<tr>\n",
    "  <td>\\xhh</td>\n",
    "  <td>Hex value</td>\n",
    "<td><a target=\"_blank\" class=\"w3-btn btnsmall btnsmall\" href=\"trypython.asp?filename=demo_string_hex\"></a></td>\n",
    "</tr>\n",
    "</tbody>"
   ]
  },
  {
   "cell_type": "markdown",
   "id": "105809a1",
   "metadata": {},
   "source": [
    "## Booleans represent one of two values: True or False.\n",
    "\n",
    "- Boolean Values\n",
    "- In programming you often need to know if an expression is True or False.\n",
    "\n",
    "- You can evaluate any expression in Python, and get one of two answers, True or False.\n",
    "- When you compare two values, the expression is evaluated and Python returns the Boolean answer:"
   ]
  },
  {
   "cell_type": "code",
   "execution_count": 1,
   "id": "6a5e10ad",
   "metadata": {},
   "outputs": [
    {
     "name": "stdout",
     "output_type": "stream",
     "text": [
      "True\n",
      "False\n",
      "False\n"
     ]
    }
   ],
   "source": [
    "print(10 > 9)\n",
    "print(10 == 9)\n",
    "print(10 < 9)\n",
    "# When you run a condition in an if statement, Python returns True or False:"
   ]
  },
  {
   "cell_type": "code",
   "execution_count": 2,
   "id": "882fc83e",
   "metadata": {},
   "outputs": [
    {
     "name": "stdout",
     "output_type": "stream",
     "text": [
      "b is not greater than a\n"
     ]
    }
   ],
   "source": [
    "# Print a message based on whether the condition is True or False:\n",
    "\n",
    "a = 200\n",
    "b = 33\n",
    "\n",
    "if b > a:\n",
    "  print(\"b is greater than a\")\n",
    "else:\n",
    "  print(\"b is not greater than a\")"
   ]
  },
  {
   "cell_type": "markdown",
   "id": "ad5152ee",
   "metadata": {},
   "source": [
    "## Evaluate Values and Variables\n",
    "- The bool() function allows you to evaluate any value, and give you True or False in return,\n"
   ]
  },
  {
   "cell_type": "code",
   "execution_count": 3,
   "id": "6b28883a",
   "metadata": {},
   "outputs": [
    {
     "name": "stdout",
     "output_type": "stream",
     "text": [
      "True\n",
      "True\n"
     ]
    }
   ],
   "source": [
    "# Evaluate a string and a number:\n",
    "\n",
    "print(bool(\"Hello\"))\n",
    "print(bool(15))"
   ]
  },
  {
   "cell_type": "code",
   "execution_count": 4,
   "id": "3c74fce6",
   "metadata": {},
   "outputs": [
    {
     "name": "stdout",
     "output_type": "stream",
     "text": [
      "True\n",
      "True\n"
     ]
    }
   ],
   "source": [
    "# Evaluate two variables:\n",
    "\n",
    "x = \"Hello\"\n",
    "y = 15\n",
    "\n",
    "print(bool(x))\n",
    "print(bool(y))"
   ]
  },
  {
   "cell_type": "markdown",
   "id": "9c5ae6fb",
   "metadata": {},
   "source": [
    "## Most Values are True\n",
    "- Almost any value is evaluated to True if it has some sort of content.\n",
    "\n",
    "- Any string is True, except empty strings.\n",
    "\n",
    "- Any number is True, except 0.\n",
    "\n",
    "- Any list, tuple, set, and dictionary are True, except empty ones.\n"
   ]
  },
  {
   "cell_type": "code",
   "execution_count": 5,
   "id": "1b992cbd",
   "metadata": {},
   "outputs": [
    {
     "data": {
      "text/plain": [
       "True"
      ]
     },
     "execution_count": 5,
     "metadata": {},
     "output_type": "execute_result"
    }
   ],
   "source": [
    "# The following will return True:\n",
    "\n",
    "bool(\"abc\")\n",
    "bool(123)\n",
    "bool([\"apple\", \"cherry\", \"banana\"])"
   ]
  },
  {
   "cell_type": "markdown",
   "id": "706e37ee",
   "metadata": {},
   "source": [
    "## Some Values are False\n",
    "- In fact, there are not many values that evaluate to False, except empty values, such as (), [], {}, \"\", the number 0, and the value None. And of course the value False evaluates to False.\n"
   ]
  },
  {
   "cell_type": "code",
   "execution_count": 6,
   "id": "a84d6a63",
   "metadata": {},
   "outputs": [
    {
     "data": {
      "text/plain": [
       "False"
      ]
     },
     "execution_count": 6,
     "metadata": {},
     "output_type": "execute_result"
    }
   ],
   "source": [
    "#The following will return False:\n",
    "\n",
    "bool(False)\n",
    "bool(None)\n",
    "bool(0)\n",
    "bool(\"\")\n",
    "bool(())\n",
    "bool([])\n",
    "bool({})"
   ]
  },
  {
   "cell_type": "code",
   "execution_count": 7,
   "id": "5c94ac1c",
   "metadata": {},
   "outputs": [
    {
     "name": "stdout",
     "output_type": "stream",
     "text": [
      "False\n"
     ]
    }
   ],
   "source": [
    "#One more value, or object in this case, evaluates to False, and that is if you have an object that is made from a class with a __len__ function that returns 0 or False:\n",
    "class myclass():\n",
    "  def __len__(self):\n",
    "    return 0\n",
    "\n",
    "myobj = myclass()\n",
    "print(bool(myobj))"
   ]
  },
  {
   "cell_type": "markdown",
   "id": "88debacd",
   "metadata": {},
   "source": [
    "## Functions can Return a Boolean\n",
    "- You can create functions that returns a Boolean Value:"
   ]
  },
  {
   "cell_type": "code",
   "execution_count": 8,
   "id": "b8c552ed",
   "metadata": {},
   "outputs": [
    {
     "name": "stdout",
     "output_type": "stream",
     "text": [
      "True\n"
     ]
    }
   ],
   "source": [
    "#Print the answer of a function:\n",
    "\n",
    "def myFunction() :\n",
    "  return True\n",
    "\n",
    "print(myFunction())"
   ]
  },
  {
   "cell_type": "code",
   "execution_count": 9,
   "id": "d477e605",
   "metadata": {},
   "outputs": [
    {
     "name": "stdout",
     "output_type": "stream",
     "text": [
      "YES!\n"
     ]
    }
   ],
   "source": [
    "# You can execute code based on the Boolean answer of a function:\n",
    "\n",
    "#Print \"YES!\" if the function returns True, otherwise print \"NO!\":\n",
    "\n",
    "def myFunction() :\n",
    "  return True\n",
    "\n",
    "if myFunction():\n",
    "  print(\"YES!\")\n",
    "else:\n",
    "  print(\"NO!\")"
   ]
  },
  {
   "cell_type": "code",
   "execution_count": 10,
   "id": "1739a861",
   "metadata": {},
   "outputs": [
    {
     "name": "stdout",
     "output_type": "stream",
     "text": [
      "True\n"
     ]
    }
   ],
   "source": [
    "\n",
    "#Python also has many built-in functions that return a boolean value, like the isinstance() function,\n",
    "#which can be used to determine if an object is of a certain data type:\n",
    "#Check if an object is an integer or not:\n",
    "\n",
    "x = 200\n",
    "print(isinstance(x, int))"
   ]
  },
  {
   "cell_type": "markdown",
   "id": "226cf436",
   "metadata": {},
   "source": [
    "## Python Operators\n",
    "- Operators are used to perform operations on variables and values.\n"
   ]
  },
  {
   "cell_type": "code",
   "execution_count": 13,
   "id": "d0c75afd",
   "metadata": {},
   "outputs": [
    {
     "name": "stdout",
     "output_type": "stream",
     "text": [
      "15\n"
     ]
    }
   ],
   "source": [
    "#In the example below, we use the + operator to add together two values:\n",
    "print(10 + 5)"
   ]
  },
  {
   "cell_type": "markdown",
   "id": "c743c9f0",
   "metadata": {},
   "source": [
    "Python divides the operators in the following groups:\n",
    "\n",
    "- Arithmetic operators\n",
    "- Assignment operators\n",
    "- Comparison operators\n",
    "- Logical operators\n",
    "- Identity operators\n",
    "- Membership operators\n",
    "- Bitwise operators"
   ]
  },
  {
   "cell_type": "markdown",
   "id": "e9c4b8e8",
   "metadata": {},
   "source": [
    "### Python Arithmetic Operators\n",
    "Arithmetic operators are used with numeric values to perform common mathematical operations:"
   ]
  },
  {
   "cell_type": "markdown",
   "id": "b2d16d32",
   "metadata": {},
   "source": [
    "<tbody><tr>\n",
    "<th style=\"width:25%\">Operator</th>\n",
    "<th style=\"width:35%\">Name</th>\n",
    "<th style=\"width:30%\">Example</th>\n",
    "<th style=\"width:10%\"></th>\n",
    "</tr>\n",
    "<tr>\n",
    "<td>+</td>\n",
    "<td>Addition</td>\n",
    "<td>x + y</td>\n",
    "<td><a target=\"_blank\" class=\"w3-btn btnsmall btnsmall\" href=\"trypython.asp?filename=demo_oper_add\"></a></td>\n",
    "</tr>\n",
    "<tr>\n",
    "<td>-</td>\n",
    "<td>Subtraction</td>\n",
    "<td>x - y</td>\n",
    "<td><a target=\"_blank\" class=\"w3-btn btnsmall btnsmall\" href=\"trypython.asp?filename=demo_oper_sub\"></a></td>\n",
    "</tr>\n",
    "<tr>\n",
    "<td>*</td>\n",
    "<td>Multiplication</td>\n",
    "<td>x * y</td>\n",
    "<td><a target=\"_blank\" class=\"w3-btn btnsmall btnsmall\" href=\"trypython.asp?filename=demo_oper_mult\"></a></td>\n",
    "</tr>\n",
    "<tr>\n",
    "<td>/</td>\n",
    "<td>Division</td>\n",
    "<td>x / y</td>\n",
    "<td><a target=\"_blank\" class=\"w3-btn btnsmall btnsmall\" href=\"trypython.asp?filename=demo_oper_div\"></a></td>\n",
    "</tr>\n",
    "<tr>\n",
    "<td>%</td>\n",
    "<td>Modulus</td>\n",
    "<td>x % y</td>\n",
    "<td><a target=\"_blank\" class=\"w3-btn btnsmall btnsmall\" href=\"trypython.asp?filename=demo_oper_mod\"></a></td>\n",
    "</tr>\n",
    "  <tr>\n",
    "<td>**</td>\n",
    "<td>Exponentiation</td>\n",
    "<td>x ** y</td>\n",
    "<td><a target=\"_blank\" class=\"w3-btn btnsmall btnsmall\" href=\"trypython.asp?filename=demo_oper_exp\"></a></td>\n",
    "  </tr>\n",
    "<tr>\n",
    "<td>//</td>\n",
    "<td>Floor division</td>\n",
    "<td>x // y</td>\n",
    "<td><a target=\"_blank\" class=\"w3-btn btnsmall btnsmall\" href=\"trypython.asp?filename=demo_oper_floordiv\"></a></td>\n",
    "</tr>\n",
    "</tbody>"
   ]
  },
  {
   "cell_type": "markdown",
   "id": "345ff38a",
   "metadata": {},
   "source": [
    "### Python Assignment Operators\n",
    "Assignment operators are used to assign values to variables:"
   ]
  },
  {
   "cell_type": "markdown",
   "id": "88e13c14",
   "metadata": {},
   "source": [
    "<tbody><tr>\n",
    "<th style=\"width:25%\">Operator</th>\n",
    "<th style=\"width:20%\">Example</th>\n",
    "<th style=\"width:20%\">Same As</th>\n",
    "<th style=\"width:10%\"></th>\n",
    "</tr>\n",
    "<tr>\n",
    "<td>=</td>\n",
    "<td>x = 5</td>\n",
    "<td>x = 5</td>\n",
    "<td><a target=\"_blank\" class=\"w3-btn btnsmall btnsmall\" href=\"trypython.asp?filename=demo_oper_ass1\"></a></td>\n",
    "</tr>\n",
    "  <tr>\n",
    "<td>+=</td>\n",
    "<td>x += 3</td>\n",
    "<td>x = x + 3</td>\n",
    "<td><a target=\"_blank\" class=\"w3-btn btnsmall btnsmall\" href=\"trypython.asp?filename=demo_oper_ass2\"></a></td>\n",
    "  </tr>\n",
    "  <tr>\n",
    "<td>-=</td>\n",
    "<td>x -= 3</td>\n",
    "<td>x = x - 3</td>\n",
    "<td><a target=\"_blank\" class=\"w3-btn btnsmall btnsmall\" href=\"trypython.asp?filename=demo_oper_ass3\"></a></td>\n",
    "  </tr>\n",
    "  <tr>\n",
    "<td>*=</td>\n",
    "<td>x *= 3</td>\n",
    "<td>x = x * 3</td>\n",
    "<td><a target=\"_blank\" class=\"w3-btn btnsmall btnsmall\" href=\"trypython.asp?filename=demo_oper_ass4\"></a></td>\n",
    "  </tr>\n",
    "  <tr>\n",
    "<td>/=</td>\n",
    "<td>x /= 3</td>\n",
    "<td>x = x / 3</td>\n",
    "<td><a target=\"_blank\" class=\"w3-btn btnsmall btnsmall\" href=\"trypython.asp?filename=demo_oper_ass5\"></a></td>\n",
    "  </tr>\n",
    "  <tr>\n",
    "<td>%=</td>\n",
    "<td>x %= 3</td>\n",
    "<td>x = x % 3</td>\n",
    "<td><a target=\"_blank\" class=\"w3-btn btnsmall btnsmall\" href=\"trypython.asp?filename=demo_oper_ass6\"></a></td>\n",
    "  </tr>\n",
    "  <tr>\n",
    "<td>//=</td>\n",
    "<td>x //= 3</td>\n",
    "<td>x = x // 3</td>\n",
    "<td><a target=\"_blank\" class=\"w3-btn btnsmall btnsmall\" href=\"trypython.asp?filename=demo_oper_ass7\"></a></td>\n",
    "  </tr>\n",
    "  <tr>\n",
    "<td>**=</td>\n",
    "<td>x **= 3</td>\n",
    "<td>x = x ** 3</td>\n",
    "<td><a target=\"_blank\" class=\"w3-btn btnsmall btnsmall\" href=\"trypython.asp?filename=demo_oper_ass8\"></a></td>\n",
    "  </tr>\n",
    "  <tr>\n",
    "<td>&amp;=</td>\n",
    "<td>x &amp;= 3</td>\n",
    "<td>x = x &amp; 3</td>\n",
    "<td><a target=\"_blank\" class=\"w3-btn btnsmall btnsmall\" href=\"trypython.asp?filename=demo_oper_ass9\"></a></td>\n",
    "  </tr>\n",
    "  <tr>\n",
    "<td>|=</td>\n",
    "<td>x |= 3</td>\n",
    "<td>x = x | 3</td>\n",
    "<td><a target=\"_blank\" class=\"w3-btn btnsmall btnsmall\" href=\"trypython.asp?filename=demo_oper_ass10\"></a></td>\n",
    "  </tr>\n",
    "<tr>\n",
    "<td>^=</td>\n",
    "<td>x ^= 3</td>\n",
    "<td>x = x ^ 3</td>\n",
    "<td><a target=\"_blank\" class=\"w3-btn btnsmall btnsmall\" href=\"trypython.asp?filename=demo_oper_ass11\"></a></td>\n",
    "</tr>\n",
    "<tr>\n",
    "<td>&gt;&gt;=</td>\n",
    "<td>x &gt;&gt;= 3</td>\n",
    "<td>x = x &gt;&gt; 3</td>\n",
    "<td><a target=\"_blank\" class=\"w3-btn btnsmall btnsmall\" href=\"trypython.asp?filename=demo_oper_ass12\"</a></td>\n",
    "</tr>\n",
    "<tr>\n",
    "<td>&lt;&lt;=</td>\n",
    "<td>x &lt;&lt;= 3</td>\n",
    "<td>x = x &lt;&lt; 3</td>\n",
    "<td><a target=\"_blank\" class=\"w3-btn btnsmall btnsmall\" href=\"trypython.asp?filename=demo_oper_ass13\"></a></td>\n",
    "</tr>\n",
    "</tbody>"
   ]
  },
  {
   "cell_type": "markdown",
   "id": "9bc61fb9",
   "metadata": {},
   "source": [
    "### Python Comparison Operators\n",
    "Comparison operators are used to compare two values:"
   ]
  },
  {
   "cell_type": "markdown",
   "id": "3defe406",
   "metadata": {},
   "source": [
    "<tbody><tr>\n",
    "<th style=\"width:25%\">Operator</th>\n",
    "<th style=\"width:35%\">Name</th>\n",
    "<th style=\"width:30%\">Example</th>\n",
    "<th style=\"width:10%\"></th>\n",
    "</tr>\n",
    "<tr>\n",
    "<td>==</td>\n",
    "<td>Equal</td>\n",
    "<td>x == y</td>\n",
    "<td><a target=\"_blank\" class=\"w3-btn btnsmall btnsmall\" href=\"trypython.asp?filename=demo_oper_compare1\"></a></td>\n",
    "</tr>\n",
    "<tr>\n",
    "<td>!=</td>\n",
    "<td>Not equal</td>\n",
    "<td>x != y</td>\n",
    "<td><a target=\"_blank\" class=\"w3-btn btnsmall btnsmall\" href=\"trypython.asp?filename=demo_oper_compare2\"></a></td>\n",
    "</tr>\n",
    "<tr>\n",
    "<td>&gt;</td>\n",
    "<td>Greater than</td>\n",
    "<td>x &gt; y</td>\n",
    "<td><a target=\"_blank\" class=\"w3-btn btnsmall btnsmall\" href=\"trypython.asp?filename=demo_oper_compare4\"></a></td>\n",
    "</tr>\n",
    "<tr>\n",
    "<td>&lt;</td>\n",
    "<td>Less than</td>\n",
    "<td>x &lt; y</td>\n",
    "<td><a target=\"_blank\" class=\"w3-btn btnsmall btnsmall\" href=\"trypython.asp?filename=demo_oper_compare5\"></a></td>\n",
    "</tr>\n",
    "  <tr>\n",
    "<td>&gt;=</td>\n",
    "<td>Greater than or equal to</td>\n",
    "<td>x &gt;= y</td>\n",
    "<td><a target=\"_blank\" class=\"w3-btn btnsmall btnsmall\" href=\"trypython.asp?filename=demo_oper_compare6\"></a></td>\n",
    "  </tr>\n",
    "<tr>\n",
    "<td>&lt;=</td>\n",
    "<td>Less than or equal to</td>\n",
    "<td>x &lt;= y</td>\n",
    "<td><a target=\"_blank\" class=\"w3-btn btnsmall btnsmall\" href=\"trypython.asp?filename=demo_oper_compare7\"></a></td>\n",
    "</tr>\n",
    "</tbody>"
   ]
  },
  {
   "cell_type": "markdown",
   "id": "074d4f05",
   "metadata": {},
   "source": [
    "### Python Logical Operators\n",
    "Logical operators are used to combine conditional statements:\n",
    "- (and)Returns True if both statements are true,example\tx < 5 and  x < 1\n",
    "- (or)Returns True if one of the statements is true,example x < 5 or x < 4\t\n",
    "- (not)\tReverse the result, returns False if the result is true,example\tnot(x < 5 and x < 10)\t"
   ]
  },
  {
   "cell_type": "markdown",
   "id": "9cff1028",
   "metadata": {},
   "source": [
    "### Python Membership Operators\n",
    "- Membership operators are used to test if a sequence is presented in an object:\n",
    "- (in) Returns True if a sequence with the specified value is present in the object\n",
    "- (not in)  \tReturns True if a sequence with the specified value is not present in the object"
   ]
  },
  {
   "cell_type": "markdown",
   "id": "b4f7fbd6",
   "metadata": {},
   "source": [
    "### Python Bitwise Operators\n",
    "- Bitwise operators are used to compare (binary) numbers:"
   ]
  },
  {
   "cell_type": "markdown",
   "id": "c2f81f49",
   "metadata": {},
   "source": [
    "<tbody><tr>\n",
    "<th style=\"width:10%\">Operator</th>\n",
    "<th style=\"width:15%\">Name</th>\n",
    "<th style=\"width:35%\">Description</th>\n",
    "<th style=\"width:30%\">Example</th>\n",
    "<th style=\"width:10%\"></th>\n",
    "</tr>\n",
    "  <tr>\n",
    "<td>&amp;&nbsp;</td>\n",
    "<td>AND</td>\n",
    "<td>Sets each bit to 1 if both bits are 1</td>\n",
    "<td>x &amp; y</td>\n",
    "<td><a target=\"_blank\" class=\"w3-btn btnsmall btnsmall\" href=\"trypython.asp?filename=demo_oper_and\"></a></td>\n",
    "  </tr>\n",
    "  <tr>\n",
    "<td>|</td>\n",
    "<td>OR</td>\n",
    "<td>Sets each bit to 1 if one of two bits is 1</td>\n",
    "<td>x | y</td>\n",
    "<td><a target=\"_blank\" class=\"w3-btn btnsmall btnsmall\" href=\"trypython.asp?filename=demo_oper_or\"></a></td>\n",
    "  </tr>\n",
    "  <tr>\n",
    "<td>^</td>\n",
    "<td>XOR</td>\n",
    "<td>Sets each bit to 1 if only one of two bits is 1</td>\n",
    "<td>x ^ y</td>\n",
    "<td><a target=\"_blank\" class=\"w3-btn btnsmall btnsmall\" href=\"trypython.asp?filename=demo_oper_xor\"></a></td>\n",
    "  </tr>\n",
    "<tr>\n",
    "<td>~</td>\n",
    "<td>NOT</td>\n",
    "<td>Inverts all the bits</td>\n",
    "<td>~x</td>\n",
    "<td><a target=\"_blank\" class=\"w3-btn btnsmall btnsmall\" href=\"trypython.asp?filename=demo_oper_not\"></a></td>\n",
    "</tr>\n",
    "<tr>\n",
    "<td>&lt;&lt;</td>\n",
    "<td>Zero fill left shift</td>\n",
    "<td>Shift left by pushing zeros in from the right and let the leftmost bits fall \n",
    "off</td>\n",
    "<td>x &lt;&lt; 2</td>\n",
    "<td><a target=\"_blank\" class=\"w3-btn btnsmall btnsmall\" href=\"trypython.asp?filename=demo_oper_left_shift\"></a></td>\n",
    "</tr>\n",
    "<tr>\n",
    "<td>&gt;&gt;</td>\n",
    "<td>Signed right shift</td>\n",
    "<td>Shift right by pushing copies of the leftmost bit in from the left, and let \n",
    "the rightmost bits fall off</td>\n",
    "<td>x &gt;&gt; 2</td>\n",
    "<td><a target=\"_blank\" class=\"w3-btn btnsmall btnsmall\" href=\"trypython.asp?filename=demo_oper_right_shift\"></a></td>\n",
    "</tr>\n",
    "</tbody>"
   ]
  },
  {
   "cell_type": "code",
   "execution_count": 14,
   "id": "54a7132e",
   "metadata": {},
   "outputs": [
    {
     "name": "stdout",
     "output_type": "stream",
     "text": [
      "0\n"
     ]
    }
   ],
   "source": [
    "#Operator Precedence\n",
    "# Operator precedence describes the order in which operations are performed.\n",
    "\n",
    "#Parentheses has the highest precedence, meaning that expressions inside parentheses must be\n",
    "#evaluated first:\n",
    "\n",
    "print((6 + 3) - (6 + 3))"
   ]
  },
  {
   "cell_type": "code",
   "execution_count": 15,
   "id": "b90b750c",
   "metadata": {},
   "outputs": [
    {
     "name": "stdout",
     "output_type": "stream",
     "text": [
      "115\n"
     ]
    }
   ],
   "source": [
    "# Multiplication * has higher precedence than addition +, and therefor multiplications are evaluated\n",
    "#before additions:\n",
    "\n",
    "print(100 + 5 * 3)"
   ]
  },
  {
   "cell_type": "code",
   "execution_count": 16,
   "id": "0c2e6863",
   "metadata": {},
   "outputs": [
    {
     "name": "stdout",
     "output_type": "stream",
     "text": [
      "5\n"
     ]
    }
   ],
   "source": [
    "# Addition + and subtraction - has the same precedence, and therefor we evaluate the expression from\n",
    "#left to right:\n",
    "\n",
    "print(5 + 4 - 7 + 3)"
   ]
  },
  {
   "cell_type": "code",
   "execution_count": null,
   "id": "b8b3a044",
   "metadata": {},
   "outputs": [],
   "source": []
  }
 ],
 "metadata": {
  "kernelspec": {
   "display_name": "Python 3 (ipykernel)",
   "language": "python",
   "name": "python3"
  },
  "language_info": {
   "codemirror_mode": {
    "name": "ipython",
    "version": 3
   },
   "file_extension": ".py",
   "mimetype": "text/x-python",
   "name": "python",
   "nbconvert_exporter": "python",
   "pygments_lexer": "ipython3",
   "version": "3.9.13"
  }
 },
 "nbformat": 4,
 "nbformat_minor": 5
}
