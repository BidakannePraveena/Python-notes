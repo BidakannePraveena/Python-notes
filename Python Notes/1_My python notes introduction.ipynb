{
 "cells": [
  {
   "cell_type": "markdown",
   "id": "0f7afeea",
   "metadata": {},
   "source": [
    "# Bacic function"
   ]
  },
  {
   "cell_type": "code",
   "execution_count": 2,
   "id": "ba2ffc05",
   "metadata": {},
   "outputs": [
    {
     "name": "stdout",
     "output_type": "stream",
     "text": [
      "Hello World\n",
      "123\n"
     ]
    }
   ],
   "source": [
    "# using print()\n",
    "print(\"Hello World\")\n",
    "\n",
    "print(123)"
   ]
  },
  {
   "cell_type": "markdown",
   "id": "d493745a",
   "metadata": {},
   "source": [
    "<img src=\"https://th.bing.com/th/id/OIP.CCxveSuiK8mMvujHPxGiLwAAAA?pid=ImgDet&rs=1\">"
   ]
  },
  {
   "cell_type": "code",
   "execution_count": 5,
   "id": "56359758",
   "metadata": {},
   "outputs": [
    {
     "name": "stdout",
     "output_type": "stream",
     "text": [
      "Enter the value of A 5\n",
      "A : 5\n"
     ]
    }
   ],
   "source": [
    "# using input\n",
    "a=input(\"Enter the value of A \")\n",
    "print(\"A :\",a)"
   ]
  },
  {
   "cell_type": "markdown",
   "id": "b4f86e24",
   "metadata": {},
   "source": [
    "### Python Comments\n",
    "- Comments can be used to explain Python code.\n",
    "\n",
    "- Comments can be used to make the code more readable.\n",
    "\n",
    "- Comments can be used to prevent execution when testing code."
   ]
  },
  {
   "cell_type": "code",
   "execution_count": 6,
   "id": "4fe40693",
   "metadata": {},
   "outputs": [
    {
     "name": "stdout",
     "output_type": "stream",
     "text": [
      "Hello, World!\n"
     ]
    }
   ],
   "source": [
    "Creating a Comment\n",
    "Comments starts with a #, and Python will ignore them:\n",
    "#This is a comment\n",
    "print(\"Hello, World!\")"
   ]
  },
  {
   "cell_type": "markdown",
   "id": "b5b02cfd",
   "metadata": {},
   "source": [
    "- Comments can be placed at the end of a line, and Python will ignore the rest of the line\n",
    "- A comment does not have to be text that explains the code, it can also be used to prevent Python from executing code:"
   ]
  },
  {
   "cell_type": "markdown",
   "id": "865ef64f",
   "metadata": {
    "heading_collapsed": true
   },
   "source": [
    "#### Multiline Comments\n",
    "- Python does not really have a syntax for multiline comments.\n",
    "\n",
    "- To add a multiline comment you could insert a # for each line:"
   ]
  },
  {
   "cell_type": "code",
   "execution_count": 8,
   "id": "5e25c963",
   "metadata": {
    "hidden": true
   },
   "outputs": [
    {
     "name": "stdout",
     "output_type": "stream",
     "text": [
      "Hello, World!\n"
     ]
    }
   ],
   "source": [
    "#This is a comment\n",
    "#written in\n",
    "#more than just one line\n",
    "print(\"Hello, World!\")\n",
    "Or, not quite as intended, you can use a multiline string.\n"
   ]
  },
  {
   "cell_type": "code",
   "execution_count": 9,
   "id": "e4458527",
   "metadata": {
    "hidden": true
   },
   "outputs": [
    {
     "name": "stdout",
     "output_type": "stream",
     "text": [
      "Hello, World!\n"
     ]
    }
   ],
   "source": [
    "# Multiline comments\n",
    "\"\"\"\n",
    "This is a comment\n",
    "written in\n",
    "more than just one line\n",
    "\"\"\"\n",
    "print(\"Hello, World!\")"
   ]
  },
  {
   "cell_type": "markdown",
   "id": "4d829f63",
   "metadata": {
    "hidden": true
   },
   "source": [
    "- As long as the string is not assigned to a variable, Python will read the code,\n",
    "but then ignore it, and you have made a multiline comment."
   ]
  },
  {
   "cell_type": "markdown",
   "id": "ffc613e9",
   "metadata": {},
   "source": [
    "## Variables\n",
    "- Variables are containers for storing data values.\n",
    "\n",
    "### Creating Variables\n",
    "- Python has no command for declaring a variable.\n",
    "\n",
    "- A variable is created the moment you first assign a value to it."
   ]
  },
  {
   "cell_type": "code",
   "execution_count": 11,
   "id": "1b517fc6",
   "metadata": {
    "scrolled": false
   },
   "outputs": [
    {
     "name": "stdout",
     "output_type": "stream",
     "text": [
      "5\n",
      "variable\n"
     ]
    }
   ],
   "source": [
    "# variables\n",
    "x = 5\n",
    "y = \"variable\"\n",
    "print(x)\n",
    "print(y)"
   ]
  },
  {
   "cell_type": "markdown",
   "id": "91a471a7",
   "metadata": {},
   "source": [
    "- Variables do not need to be declared with any particular type, and can even change type after they have been set."
   ]
  },
  {
   "cell_type": "code",
   "execution_count": 12,
   "id": "7a91dc17",
   "metadata": {},
   "outputs": [
    {
     "name": "stdout",
     "output_type": "stream",
     "text": [
      "String\n"
     ]
    }
   ],
   "source": [
    "x = 4       # x is of type int\n",
    "x = \"String\" # x is now of type str \n",
    "print(x)"
   ]
  },
  {
   "cell_type": "markdown",
   "id": "11a7fd68",
   "metadata": {},
   "source": [
    "## Casting\n",
    "- If you want to specify the data type of a variable, this can be done with casting."
   ]
  },
  {
   "cell_type": "code",
   "execution_count": 16,
   "id": "60a499eb",
   "metadata": {},
   "outputs": [
    {
     "name": "stdout",
     "output_type": "stream",
     "text": [
      "3\n",
      "3\n",
      "3.0\n"
     ]
    }
   ],
   "source": [
    "x = str(3)    # x will be '3'\n",
    "y = int(3)    # y will be 3\n",
    "z = float(3)  # z will be 3.0\n",
    "print(x)\n",
    "print(y)\n",
    "print(z)"
   ]
  },
  {
   "cell_type": "markdown",
   "id": "a183fa33",
   "metadata": {},
   "source": [
    "### Get the Type\n",
    "- You can get the data type of a variable with the type() function."
   ]
  },
  {
   "cell_type": "code",
   "execution_count": 18,
   "id": "68d8f3d9",
   "metadata": {},
   "outputs": [
    {
     "name": "stdout",
     "output_type": "stream",
     "text": [
      "<class 'int'>\n",
      "<class 'str'>\n",
      "<class 'float'>\n"
     ]
    }
   ],
   "source": [
    "# using Type()\n",
    "a=15\n",
    "print(type(a))\n",
    "\n",
    "b=\"python\"\n",
    "print(type(b))\n",
    "\n",
    "c=11.11\n",
    "print(type(c))"
   ]
  },
  {
   "cell_type": "markdown",
   "id": "4bd72908",
   "metadata": {},
   "source": [
    "## Single or Double Quotes?\n",
    "- String variables can be declared either by using single or double quotes:"
   ]
  },
  {
   "cell_type": "code",
   "execution_count": 20,
   "id": "dcd0a0f0",
   "metadata": {},
   "outputs": [
    {
     "name": "stdout",
     "output_type": "stream",
     "text": [
      "string\n",
      "string\n"
     ]
    }
   ],
   "source": [
    "x = \"string\"\n",
    "print(x)\n",
    "# is the same as\n",
    "print(x)\n",
    "x = 'string'"
   ]
  },
  {
   "cell_type": "markdown",
   "id": "3c519256",
   "metadata": {},
   "source": [
    "## Case-Sensitive\n",
    "- Variable names are case-sensitive."
   ]
  },
  {
   "cell_type": "code",
   "execution_count": 22,
   "id": "b0ed094c",
   "metadata": {},
   "outputs": [
    {
     "name": "stdout",
     "output_type": "stream",
     "text": [
      "4\n",
      "string\n"
     ]
    }
   ],
   "source": [
    "# This will create two variables:\n",
    "a = 4\n",
    "print(a)\n",
    "A = \"string\"\n",
    "print(A)\n",
    "#A will not overwrite a"
   ]
  },
  {
   "cell_type": "markdown",
   "id": "9084cf4d",
   "metadata": {},
   "source": [
    "## Variable Names\n",
    "- A variable can have a short name (like x and y) or a more descriptive name (age, carname, total_volume). Rules for Python variables:\n",
    "- A variable name must start with a letter or the underscore character\n",
    "- A variable name cannot start with a number\n",
    "- A variable name can only contain alpha-numeric characters and underscores (A-z, 0-9, and _ )\n",
    "Variable names are case-sensitive (age, Age and AGE are three different variables)\n"
   ]
  },
  {
   "cell_type": "code",
   "execution_count": 23,
   "id": "3c685c0b",
   "metadata": {},
   "outputs": [
    {
     "name": "stdout",
     "output_type": "stream",
     "text": [
      "sony\n",
      "sony\n",
      "sony\n",
      "sony\n",
      "sony\n",
      "sony\n"
     ]
    }
   ],
   "source": [
    "# Legal variable names\n",
    "myvar = \"sony\"\n",
    "my_var = \"sony\"\n",
    "_my_var = \"sony\"\n",
    "myVar = \"sony\"\n",
    "MYVAR = \"sony\"\n",
    "myvar2 = \"sony\"\n",
    "\n",
    "print(myvar)\n",
    "print(my_var)\n",
    "print(_my_var)\n",
    "print(myVar)\n",
    "print(MYVAR)\n",
    "print(myvar2)"
   ]
  },
  {
   "cell_type": "code",
   "execution_count": null,
   "id": "837199bd",
   "metadata": {},
   "outputs": [],
   "source": [
    "# Illegal variable names\n",
    "2myvar = \"sony\"\n",
    "my-var = \"sony\"\n",
    "my var = \"sony\"\n",
    "# Remember that variable names are case-sensitive"
   ]
  },
  {
   "cell_type": "markdown",
   "id": "a0a40a88",
   "metadata": {},
   "source": [
    "## Multi Words Variable Names\n",
    "- Variable names with more than one word can be difficult to read.\n",
    "\n",
    "- There are several techniques you can use to make them more readable:\n",
    "\n",
    "## Camel Case\n",
    "- Each word, except the first, starts with a capital letter:"
   ]
  },
  {
   "cell_type": "code",
   "execution_count": 26,
   "id": "e5061fc2",
   "metadata": {},
   "outputs": [
    {
     "name": "stdout",
     "output_type": "stream",
     "text": [
      "sony\n"
     ]
    }
   ],
   "source": [
    "myVariableName = \"sony\" \n",
    "print(myVariableName)"
   ]
  },
  {
   "cell_type": "markdown",
   "id": "42e05c6d",
   "metadata": {},
   "source": [
    "## Pascal Case\n",
    "- Each word starts with a capital letter:"
   ]
  },
  {
   "cell_type": "code",
   "execution_count": 27,
   "id": "fd7f4d76",
   "metadata": {},
   "outputs": [
    {
     "name": "stdout",
     "output_type": "stream",
     "text": [
      "sony\n"
     ]
    }
   ],
   "source": [
    "MyVariableName = \"sony\"\n",
    "print(MyVariableName)"
   ]
  },
  {
   "cell_type": "markdown",
   "id": "4630ea28",
   "metadata": {},
   "source": [
    "## Snake Case\n",
    "- Each word is separated by an underscore character:"
   ]
  },
  {
   "cell_type": "code",
   "execution_count": 28,
   "id": "e6078b06",
   "metadata": {},
   "outputs": [
    {
     "name": "stdout",
     "output_type": "stream",
     "text": [
      "sony\n"
     ]
    }
   ],
   "source": [
    "my_variable_name = \"sony\"\n",
    "print(my_variable_name)"
   ]
  },
  {
   "cell_type": "markdown",
   "id": "ce4dc8d4",
   "metadata": {},
   "source": [
    "## Assign multiple values\n",
    "- Python allows you to assign values to multiple variables in one line:"
   ]
  },
  {
   "cell_type": "code",
   "execution_count": 29,
   "id": "7f165750",
   "metadata": {},
   "outputs": [
    {
     "name": "stdout",
     "output_type": "stream",
     "text": [
      "Orange\n",
      "Banana\n",
      "Cherry\n"
     ]
    }
   ],
   "source": [
    "# Assign multiple values\n",
    "x, y, z = \"Orange\", \"Banana\", \"Cherry\"\n",
    "print(x)\n",
    "print(y)\n",
    "print(z)\n",
    "# Note: Make sure the number of variables matches the number of values, or else you will get an error."
   ]
  },
  {
   "cell_type": "markdown",
   "id": "be5371d3",
   "metadata": {},
   "source": [
    "## One Value to Multiple Variables\n",
    "- And you can assign the same value to multiple variables in one line:"
   ]
  },
  {
   "cell_type": "code",
   "execution_count": 30,
   "id": "d6c68db7",
   "metadata": {},
   "outputs": [
    {
     "name": "stdout",
     "output_type": "stream",
     "text": [
      "Orange\n",
      "Orange\n",
      "Orange\n"
     ]
    }
   ],
   "source": [
    "x = y = z = \"Orange\"\n",
    "print(x)\n",
    "print(y)\n",
    "print(z)"
   ]
  },
  {
   "cell_type": "markdown",
   "id": "eb3a03c3",
   "metadata": {},
   "source": [
    "## Unpack a Collection\n",
    "- If you have a collection of values in a list, tuple etc. Python allows you to extract the values into variables. This is called unpacking."
   ]
  },
  {
   "cell_type": "code",
   "execution_count": 32,
   "id": "56cb8105",
   "metadata": {},
   "outputs": [
    {
     "name": "stdout",
     "output_type": "stream",
     "text": [
      "apple\n",
      "banana\n",
      "cherry\n"
     ]
    }
   ],
   "source": [
    "# Unpack a list:\n",
    "fruits = [\"apple\", \"banana\", \"cherry\"]\n",
    "x, y, z = fruits\n",
    "print(x)\n",
    "print(y)\n",
    "print(z)"
   ]
  },
  {
   "cell_type": "markdown",
   "id": "e45cc414",
   "metadata": {},
   "source": [
    "## Output Variables\n",
    "- The Python print() function is often used to output variables."
   ]
  },
  {
   "cell_type": "code",
   "execution_count": 33,
   "id": "cc438ec4",
   "metadata": {},
   "outputs": [
    {
     "name": "stdout",
     "output_type": "stream",
     "text": [
      "Python is awesome\n",
      "Python is awesome\n"
     ]
    }
   ],
   "source": [
    "x = \"Python is awesome\"\n",
    "print(x)\n",
    "\n",
    "# In the print() function, you output multiple variables, separated by a comma:\n",
    "x = \"Python\"\n",
    "y = \"is\"\n",
    "z = \"awesome\"\n",
    "print(x, y, z)"
   ]
  },
  {
   "cell_type": "code",
   "execution_count": 34,
   "id": "57809ac4",
   "metadata": {},
   "outputs": [
    {
     "name": "stdout",
     "output_type": "stream",
     "text": [
      "Python is awesome\n"
     ]
    }
   ],
   "source": [
    "# You can also use the + operator to output multiple variables:\n",
    "x = \"Python \"\n",
    "y = \"is \"\n",
    "z = \"awesome\"\n",
    "print(x + y + z)"
   ]
  },
  {
   "cell_type": "markdown",
   "id": "d396f700",
   "metadata": {},
   "source": [
    "- Notice the space character after \"Python \" and \"is \", without them the result would be \"Pythonisawesome\"."
   ]
  },
  {
   "cell_type": "code",
   "execution_count": 35,
   "id": "f22e0f87",
   "metadata": {},
   "outputs": [
    {
     "name": "stdout",
     "output_type": "stream",
     "text": [
      "15\n"
     ]
    }
   ],
   "source": [
    "# For numbers, the + character works as a mathematical operator:\n",
    "x = 5\n",
    "y = 10\n",
    "print(x + y)"
   ]
  },
  {
   "cell_type": "code",
   "execution_count": null,
   "id": "02d6724f",
   "metadata": {},
   "outputs": [],
   "source": [
    "# In the print() function, when you try to combine a string and a number with the + operator,\n",
    "# Python will give you an error:\n",
    "x = 5\n",
    "y = \"python\" \n",
    "print(x + y)"
   ]
  },
  {
   "cell_type": "code",
   "execution_count": 1,
   "id": "3b76f7d9",
   "metadata": {},
   "outputs": [
    {
     "name": "stdout",
     "output_type": "stream",
     "text": [
      "5 python\n"
     ]
    }
   ],
   "source": [
    "# The best way to output multiple variables in the print() function is to separate them with commas, \n",
    "# which even support different data types:\n",
    "x = 5\n",
    "y = \"python\"\n",
    "print(x, y)"
   ]
  },
  {
   "cell_type": "markdown",
   "id": "f64db02f",
   "metadata": {},
   "source": [
    "# Global Variables\n",
    "- Variables that are created outside of a function (as in all of the examples above) are known as global variables.\n",
    "\n",
    "- Global variables can be used by everyone, both inside of functions and outside."
   ]
  },
  {
   "cell_type": "code",
   "execution_count": 1,
   "id": "bc957f20",
   "metadata": {},
   "outputs": [
    {
     "name": "stdout",
     "output_type": "stream",
     "text": [
      "Python is awesome\n"
     ]
    }
   ],
   "source": [
    "# Create a variable outside of a function, and use it inside the function\n",
    "x = \"awesome\"\n",
    "\n",
    "def myfunc():\n",
    "  print(\"Python is \" + x)\n",
    "\n",
    "myfunc()"
   ]
  },
  {
   "cell_type": "code",
   "execution_count": null,
   "id": "e320e89e",
   "metadata": {},
   "outputs": [],
   "source": [
    "f you create a variable with the same name inside a function, this variable will be local,\n",
    "and can only be used inside the function. The global variable with the same name will remain \n",
    "as it was, global and with the original value.\n",
    "\n",
    "Create a variable inside a function, with the same name as the global variable\n",
    "\n",
    "x = \"awesome\"\n",
    "\n",
    "def myfunc():\n",
    "  x = \"fantastic\"\n",
    "  print(\"Python is \" + x)\n",
    "\n",
    "myfunc()\n",
    "\n",
    "print(\"Python is \" + x)"
   ]
  },
  {
   "cell_type": "markdown",
   "id": "642a3d0c",
   "metadata": {},
   "source": [
    "## The global Keyword\n",
    "- Normally, when you create a variable inside a function, that variable is local, and can only be used inside that function.\n",
    "\n",
    "- To create a global variable inside a function, you can use the global keyword."
   ]
  },
  {
   "cell_type": "code",
   "execution_count": 2,
   "id": "08f0ee28",
   "metadata": {},
   "outputs": [
    {
     "name": "stdout",
     "output_type": "stream",
     "text": [
      "Python is fantastic\n"
     ]
    }
   ],
   "source": [
    "#If you use the global keyword, the variable belongs to the global scope:\n",
    "\n",
    "def myfunc():\n",
    "  global x\n",
    "  x = \"fantastic\"\n",
    "\n",
    "myfunc()\n",
    "\n",
    "print(\"Python is \" + x)"
   ]
  },
  {
   "cell_type": "code",
   "execution_count": 3,
   "id": "716d1dad",
   "metadata": {},
   "outputs": [
    {
     "name": "stdout",
     "output_type": "stream",
     "text": [
      "Python is fantastic\n"
     ]
    }
   ],
   "source": [
    "#To change the value of a global variable inside a function, refer to the variable by using\n",
    "#global keyword:\n",
    "\n",
    "x = \"awesome\"\n",
    "\n",
    "def myfunc():\n",
    "  global x\n",
    "  x = \"fantastic\"\n",
    "\n",
    "myfunc()\n",
    "\n",
    "print(\"Python is \" + x)"
   ]
  },
  {
   "cell_type": "markdown",
   "id": "445aa285",
   "metadata": {},
   "source": [
    "## Python Data Types\n",
    "### Built-in Data Types\n",
    "- In programming, data type is an important concept.\n",
    "\n",
    "- Variables can store data of different types, and different types can do different things.\n",
    "\n",
    "- Python has the following data types built-in by default, in these categories"
   ]
  },
  {
   "cell_type": "markdown",
   "id": "983b5891",
   "metadata": {},
   "source": [
    "<tbody><tr>\n",
    "    <td style=\"width:160px;\">Text Type:</td>\n",
    "    <td><code class=\"w3-codespan\">str</code></td>\n",
    "  </tr>\n",
    "  <tr>\n",
    "    <td>Numeric Types:</td>\n",
    "    <td><code class=\"w3-codespan\">int</code>, <code class=\"w3-codespan\">float</code>,\n",
    "    <code class=\"w3-codespan\">complex</code></td>\n",
    "  </tr>\n",
    "  <tr>\n",
    "    <td>Sequence Types:</td>\n",
    "    <td><code class=\"w3-codespan\">list</code>, <code class=\"w3-codespan\">tuple</code>, \n",
    "    <code class=\"w3-codespan\">range</code></td>\n",
    "  </tr>\n",
    "  <tr>\n",
    "    <td>Mapping Type:</td>\n",
    "    <td><code class=\"w3-codespan\">dict</code></td>\n",
    "  </tr>\n",
    "  <tr>\n",
    "    <td>Set Types:</td>\n",
    "    <td><code class=\"w3-codespan\">set</code>, <code class=\"w3-codespan\">frozenset</code></td>\n",
    "  </tr>\n",
    "  <tr>\n",
    "    <td>Boolean Type:</td>\n",
    "    <td><code class=\"w3-codespan\">bool</code></td>\n",
    "  </tr>\n",
    "  <tr>\n",
    "    <td>Binary Types:</td>\n",
    "    <td><code class=\"w3-codespan\">bytes</code>, <code class=\"w3-codespan\">bytearray</code>, \n",
    "    <code class=\"w3-codespan\">memoryview</code></td>\n",
    "  </tr>\n",
    "  <tr>\n",
    "    <td>None Type:</td>\n",
    "    <td><code class=\"w3-codespan\">NoneType</code></td>\n",
    "  </tr>\n",
    "</tbody>"
   ]
  },
  {
   "cell_type": "markdown",
   "id": "981e9b2d",
   "metadata": {},
   "source": [
    "## Getting the Data Type\n",
    "- You can get the data type of any object by using the type() function:"
   ]
  },
  {
   "cell_type": "code",
   "execution_count": 2,
   "id": "bfe88625",
   "metadata": {},
   "outputs": [
    {
     "name": "stdout",
     "output_type": "stream",
     "text": [
      "<class 'int'>\n"
     ]
    }
   ],
   "source": [
    "# Print the data type of the variable x:\n",
    "\n",
    "x = 5\n",
    "print(type(x))"
   ]
  },
  {
   "cell_type": "markdown",
   "id": "76bf2349",
   "metadata": {},
   "source": [
    "## Setting the Data Type\n",
    "- In Python, the data type is set when you assign a value to a variable:\n"
   ]
  },
  {
   "cell_type": "markdown",
   "id": "06b1af1a",
   "metadata": {},
   "source": [
    "<tbody><tr>\n",
    "<th style=\"min-width:350px\">Example</th>\n",
    "<th>Data Type</th>\n",
    "<th style=\"width:90px\"></th>\n",
    "</tr>\n",
    "<tr>\n",
    "<td>x = \"Hello World\"</td>\n",
    "<td>str</td>\n",
    "<td><a target=\"_blank\" class=\"w3-btn btnsmall btnsmall\" href=\"trypython.asp?filename=demo_type_str\"></a></td>\n",
    "</tr>\n",
    "<tr>\n",
    "<td>x = 20</td>\n",
    "<td>int</td>\n",
    "<td><a target=\"_blank\" class=\"w3-btn btnsmall btnsmall\" href=\"trypython.asp?filename=demo_type_int\"></a></td>\n",
    "</tr>\n",
    "<tr>\n",
    "<td>x = 20.5</td>\n",
    "<td>float</td>\n",
    "<td><a target=\"_blank\" class=\"w3-btn btnsmall btnsmall\" href=\"trypython.asp?filename=demo_type_float\"> </a></td>\n",
    "</tr>\n",
    "<tr>\n",
    "<td>x = 1j</td>\n",
    "<td>complex</td>\n",
    "<td><a target=\"_blank\" class=\"w3-btn btnsmall btnsmall\" href=\"trypython.asp?filename=demo_type_complex\"></a></td>\n",
    "</tr>\n",
    "<tr>\n",
    "<td>x = [\"apple\", \"banana\", \"cherry\"]</td>\n",
    "<td>list</td>\n",
    "<td><a target=\"_blank\" class=\"w3-btn btnsmall btnsmall\" href=\"trypython.asp?filename=demo_type_list\"></a></td>\n",
    "</tr>\n",
    "  <tr>\n",
    "<td>x = (\"apple\", \"banana\", \"cherry\")</td>\n",
    "<td>tuple</td>\n",
    "<td><a target=\"_blank\" class=\"w3-btn btnsmall btnsmall\" href=\"trypython.asp?filename=demo_type_tuple\"></a></td>\n",
    "  </tr>\n",
    "  <tr>\n",
    "<td>x = range(6)</td>\n",
    "<td>range</td>\n",
    "<td><a target=\"_blank\" class=\"w3-btn btnsmall btnsmall\" href=\"trypython.asp?filename=demo_type_range\"></a></td>\n",
    "  </tr>\n",
    "  <tr>\n",
    "<td>x = {\"name\" : \"John\", \"age\" : 36}</td>\n",
    "<td>dict</td>\n",
    "<td><a target=\"_blank\" class=\"w3-btn btnsmall btnsmall\" href=\"trypython.asp?filename=demo_type_dict\"></a></td>\n",
    "  </tr>\n",
    "  <tr>\n",
    "<td>x = {\"apple\", \"banana\", \"cherry\"}</td>\n",
    "<td>set</td>\n",
    "<td><a target=\"_blank\" class=\"w3-btn btnsmall btnsmall\" href=\"trypython.asp?filename=demo_type_set\"></a></td>\n",
    "  </tr>\n",
    "  <tr>\n",
    "<td>x = frozenset({\"apple\", \"banana\", \"cherry\"})</td>\n",
    "<td>frozenset</td>\n",
    "<td><a target=\"_blank\" class=\"w3-btn btnsmall btnsmall\" href=\"trypython.asp?filename=demo_type_frozenset\"></a></td>\n",
    "  </tr>\n",
    "  <tr>\n",
    "<td>x = True</td>\n",
    "<td>bool</td>\n",
    "<td><a target=\"_blank\" class=\"w3-btn btnsmall btnsmall\" href=\"trypython.asp?filename=demo_type_bool\"></a></td>\n",
    "  </tr>\n",
    "  <tr>\n",
    "<td>x = b\"Hello\"</td>\n",
    "<td>bytes</td>\n",
    "<td><a target=\"_blank\" class=\"w3-btn btnsmall btnsmall\" href=\"trypython.asp?filename=demo_type_bytes\"></a></td>\n",
    "  </tr>\n",
    "  <tr>\n",
    "<td>x = bytearray(5)</td>\n",
    "<td>bytearray</td>\n",
    "<td><a target=\"_blank\" class=\"w3-btn btnsmall btnsmall\" href=\"trypython.asp?filename=demo_type_bytearray\"></a></td>\n",
    "  </tr>\n",
    "<tr>\n",
    "<td>x = memoryview(bytes(5))</td>\n",
    "<td>memoryview</td>\n",
    "<td><a target=\"_blank\" class=\"w3-btn btnsmall btnsmall\" href=\"trypython.asp?filename=demo_type_memoryview\"></a></td>\n",
    "</tr>\n",
    "<tr>\n",
    "<td>x = None</td>\n",
    "<td>NoneType</td>\n",
    "<td><a target=\"_blank\" class=\"w3-btn btnsmall btnsmall\" href=\"trypython.asp?filename=demo_type_nonetype\"></a></td>\n",
    "</tr>\n",
    "</tbody>"
   ]
  },
  {
   "cell_type": "markdown",
   "id": "891a36ec",
   "metadata": {},
   "source": [
    "## Setting the Specific Data Type\n",
    "- If you want to specify the data type, you can use the following constructor functions:"
   ]
  },
  {
   "cell_type": "markdown",
   "id": "8c8c439f",
   "metadata": {},
   "source": [
    "<tbody><tr>\n",
    "<th style=\"min-width:350px\">Example</th>\n",
    "<th>Data Type</th>\n",
    "<th style=\"width:90px\"></th>\n",
    "</tr>\n",
    "<tr>\n",
    "<td>x = str(\"Hello World\")</td>\n",
    "<td>str</td>\n",
    "<td><a target=\"_blank\" class=\"w3-btn btnsmall btnsmall\" href=\"trypython.asp?filename=demo_type_str2\"></a></td>\n",
    "</tr>\n",
    "<tr>\n",
    "<td>x = int(20)</td>\n",
    "<td>int</td>\n",
    "<td><a target=\"_blank\" class=\"w3-btn btnsmall btnsmall\" href=\"trypython.asp?filename=demo_type_int2\"></a></td>\n",
    "</tr>\n",
    "<tr>\n",
    "<td>x = float(20.5)</td>\n",
    "<td>float</td>\n",
    "<td><a target=\"_blank\" class=\"w3-btn btnsmall btnsmall\" href=\"trypython.asp?filename=demo_type_float2\"></a></td>\n",
    "</tr>\n",
    "<tr>\n",
    "<td>x = complex(1j)</td>\n",
    "<td>complex</td>\n",
    "<td><a target=\"_blank\" class=\"w3-btn btnsmall btnsmall\" href=\"trypython.asp?filename=demo_type_complex2\"></a></td>\n",
    "</tr>\n",
    "<tr>\n",
    "<td>x = list((\"apple\", \"banana\", \"cherry\"))</td>\n",
    "<td>list</td>\n",
    "<td><a target=\"_blank\" class=\"w3-btn btnsmall btnsmall\" href=\"trypython.asp?filename=demo_type_list2\"></a></td>\n",
    "</tr>\n",
    "  <tr>\n",
    "<td>x = tuple((\"apple\", \"banana\", \"cherry\"))</td>\n",
    "<td>tuple</td>\n",
    "<td><a target=\"_blank\" class=\"w3-btn btnsmall btnsmall\" href=\"trypython.asp?filename=demo_type_tuple2\"></a></td>\n",
    "  </tr>\n",
    "  <tr>\n",
    "<td>x = range(6)</td>\n",
    "<td>range</td>\n",
    "<td><a target=\"_blank\" class=\"w3-btn btnsmall btnsmall\" href=\"trypython.asp?filename=demo_type_range2\"></a></td>\n",
    "  </tr>\n",
    "  <tr>\n",
    "<td>x = dict(name=\"John\", age=36)</td>\n",
    "<td>dict</td>\n",
    "<td><a target=\"_blank\" class=\"w3-btn btnsmall btnsmall\" href=\"trypython.asp?filename=demo_type_dict2\"></a></td>\n",
    "  </tr>\n",
    "  <tr>\n",
    "<td>x = set((\"apple\", \"banana\", \"cherry\"))</td>\n",
    "<td>set</td>\n",
    "<td><a target=\"_blank\" class=\"w3-btn btnsmall btnsmall\" href=\"trypython.asp?filename=demo_type_set2\"></a></td>\n",
    "  </tr>\n",
    "  <tr>\n",
    "<td>x = frozenset((\"apple\", \"banana\", \"cherry\"))</td>\n",
    "<td>frozenset</td>\n",
    "<td><a target=\"_blank\" class=\"w3-btn btnsmall btnsmall\" href=\"trypython.asp?filename=demo_type_frozenset2\"></a></td>\n",
    "  </tr>\n",
    "  <tr>\n",
    "<td>x = bool(5)</td>\n",
    "<td>bool</td>\n",
    "<td><a target=\"_blank\" class=\"w3-btn btnsmall btnsmall\" href=\"trypython.asp?filename=demo_type_bool2\"></a></td>\n",
    "  </tr>\n",
    "  <tr>\n",
    "<td>x = bytes(5)</td>\n",
    "<td>bytes</td>\n",
    "<td><a target=\"_blank\" class=\"w3-btn btnsmall btnsmall\" href=\"trypython.asp?filename=demo_type_bytes2\"></a></td>\n",
    "  </tr>\n",
    "  <tr>\n",
    "<td>x = bytearray(5)</td>\n",
    "<td>bytearray</td>\n",
    "<td><a target=\"_blank\" class=\"w3-btn btnsmall btnsmall\" href=\"trypython.asp?filename=demo_type_bytearray2\"></a></td>\n",
    "  </tr>\n",
    "<tr>\n",
    "<td>x = memoryview(bytes(5))</td>\n",
    "<td>memoryview</td>\n",
    "<td><a target=\"_blank\" class=\"w3-btn btnsmall btnsmall\" href=\"trypython.asp?filename=demo_type_memoryview2\"></a></td>\n",
    "</tr>\n",
    "</tbody>"
   ]
  },
  {
   "cell_type": "markdown",
   "id": "265c263e",
   "metadata": {},
   "source": [
    "## Python Numbers\n",
    "There are three numeric types in Python:\n",
    "\n",
    "- int\n",
    "- float\n",
    "- complex\n",
    "Variables of numeric types are created when you assign a value to them:"
   ]
  },
  {
   "cell_type": "code",
   "execution_count": 7,
   "id": "c1cb9ed8",
   "metadata": {},
   "outputs": [],
   "source": [
    "# Variables of numeric types are created when you assign a value to them:\n",
    "x = 1    # int\n",
    "y = 2.8  # float\n",
    "z = 1j   # complex"
   ]
  },
  {
   "cell_type": "code",
   "execution_count": 6,
   "id": "0ee09623",
   "metadata": {},
   "outputs": [
    {
     "name": "stdout",
     "output_type": "stream",
     "text": [
      "<class 'int'>\n",
      "<class 'float'>\n",
      "<class 'complex'>\n"
     ]
    }
   ],
   "source": [
    "# To verify the type of any object in Python, use the type() function:\n",
    "print(type(x))\n",
    "print(type(y))\n",
    "print(type(z))"
   ]
  },
  {
   "cell_type": "markdown",
   "id": "96fa5b7f",
   "metadata": {},
   "source": [
    "## Int\n",
    "- Int, or integer, is a whole number, positive or negative, without decimals, of unlimited length."
   ]
  },
  {
   "cell_type": "code",
   "execution_count": 8,
   "id": "e5c84da0",
   "metadata": {},
   "outputs": [
    {
     "name": "stdout",
     "output_type": "stream",
     "text": [
      "<class 'int'>\n",
      "<class 'int'>\n",
      "<class 'int'>\n"
     ]
    }
   ],
   "source": [
    "# Integers:\n",
    "\n",
    "x = 1\n",
    "y = 35656222554887711\n",
    "z = -3255522\n",
    "\n",
    "print(type(x))\n",
    "print(type(y))\n",
    "print(type(z))"
   ]
  },
  {
   "cell_type": "markdown",
   "id": "bfb48223",
   "metadata": {},
   "source": [
    "## Float\n",
    "- Float, or \"floating point number\" is a number, positive or negative, containing one or more decimals."
   ]
  },
  {
   "cell_type": "code",
   "execution_count": 9,
   "id": "72bd6b0b",
   "metadata": {},
   "outputs": [
    {
     "name": "stdout",
     "output_type": "stream",
     "text": [
      "<class 'float'>\n",
      "<class 'float'>\n",
      "<class 'float'>\n"
     ]
    }
   ],
   "source": [
    "# Floats:\n",
    "\n",
    "x = 1.10\n",
    "y = 1.0\n",
    "z = -35.59\n",
    "\n",
    "print(type(x))\n",
    "print(type(y))\n",
    "print(type(z))"
   ]
  },
  {
   "cell_type": "code",
   "execution_count": 10,
   "id": "4f9bf56c",
   "metadata": {},
   "outputs": [
    {
     "name": "stdout",
     "output_type": "stream",
     "text": [
      "<class 'float'>\n",
      "<class 'float'>\n",
      "<class 'float'>\n"
     ]
    }
   ],
   "source": [
    "# Float can also be scientific numbers with an \"e\" to indicate the power of 10.\n",
    "x = 35e3\n",
    "y = 12E4\n",
    "z = -87.7e100\n",
    "\n",
    "print(type(x))\n",
    "print(type(y))\n",
    "print(type(z))"
   ]
  },
  {
   "cell_type": "markdown",
   "id": "2514e6c5",
   "metadata": {},
   "source": [
    "## Complex\n",
    "- Complex numbers are written with a \"j\" as the imaginary part:"
   ]
  },
  {
   "cell_type": "code",
   "execution_count": 11,
   "id": "ebd9aab9",
   "metadata": {},
   "outputs": [
    {
     "name": "stdout",
     "output_type": "stream",
     "text": [
      "<class 'complex'>\n",
      "<class 'complex'>\n",
      "<class 'complex'>\n"
     ]
    }
   ],
   "source": [
    "# Complex:\n",
    "\n",
    "x = 3+5j\n",
    "y = 5j\n",
    "z = -5j\n",
    "\n",
    "print(type(x))\n",
    "print(type(y))\n",
    "print(type(z))\n"
   ]
  },
  {
   "cell_type": "markdown",
   "id": "e53eac04",
   "metadata": {},
   "source": [
    "## Type Conversion\n",
    "- You can convert from one type to another with the int(), float(), and complex() methods:"
   ]
  },
  {
   "cell_type": "code",
   "execution_count": 12,
   "id": "8ff78710",
   "metadata": {},
   "outputs": [
    {
     "name": "stdout",
     "output_type": "stream",
     "text": [
      "1.0\n",
      "2\n",
      "(1+0j)\n",
      "<class 'float'>\n",
      "<class 'int'>\n",
      "<class 'complex'>\n"
     ]
    }
   ],
   "source": [
    "# Convert from one type to another:\n",
    "\n",
    "x = 1    # int\n",
    "y = 2.8  # float\n",
    "z = 1j   # complex\n",
    "\n",
    "#convert from int to float:\n",
    "a = float(x)\n",
    "\n",
    "#convert from float to int:\n",
    "b = int(y)\n",
    "\n",
    "#convert from int to complex:\n",
    "c = complex(x)\n",
    "\n",
    "print(a)\n",
    "print(b)\n",
    "print(c)\n",
    "\n",
    "print(type(a))\n",
    "print(type(b))\n",
    "print(type(c))\n",
    "#  You cannot convert complex numbers into another number type."
   ]
  },
  {
   "cell_type": "markdown",
   "id": "1d22b8fd",
   "metadata": {},
   "source": [
    "## Random Number\n",
    "- Python does not have a random() function to make a random number, but Python has a built-in module called random that can be used to make random numbers:"
   ]
  },
  {
   "cell_type": "code",
   "execution_count": 13,
   "id": "2776a359",
   "metadata": {},
   "outputs": [
    {
     "name": "stdout",
     "output_type": "stream",
     "text": [
      "5\n"
     ]
    }
   ],
   "source": [
    "# Import the random module, and display a random number between 1 and 9:\n",
    "\n",
    "import random\n",
    "\n",
    "print(random.randrange(1, 10))\n"
   ]
  },
  {
   "cell_type": "code",
   "execution_count": null,
   "id": "6f2c03aa",
   "metadata": {},
   "outputs": [],
   "source": []
  }
 ],
 "metadata": {
  "kernelspec": {
   "display_name": "Python 3 (ipykernel)",
   "language": "python",
   "name": "python3"
  },
  "language_info": {
   "codemirror_mode": {
    "name": "ipython",
    "version": 3
   },
   "file_extension": ".py",
   "mimetype": "text/x-python",
   "name": "python",
   "nbconvert_exporter": "python",
   "pygments_lexer": "ipython3",
   "version": "3.9.13"
  }
 },
 "nbformat": 4,
 "nbformat_minor": 5
}
